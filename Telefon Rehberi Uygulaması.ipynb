{
 "cells": [
  {
   "cell_type": "code",
   "execution_count": 4,
   "id": "393e4e50",
   "metadata": {},
   "outputs": [],
   "source": [
    "Telefon_Rehberi = {}"
   ]
  },
  {
   "cell_type": "code",
   "execution_count": null,
   "id": "7958cbfd",
   "metadata": {},
   "outputs": [
    {
     "name": "stdout",
     "output_type": "stream",
     "text": [
      "------------------------------------------\n",
      "Yapmak İstediğiniz İşlemin Kodunu Giriniz:\n",
      "1 Rehbere kişi ekle\n",
      "2 Rehberden kişi silme\n",
      "3 İsim ve numara güncelleme\n",
      "4 Rehberi görüntüle\n",
      "------------------------------------------\n",
      "1\n",
      "isim giriniz:Ş\n",
      "telefon no giriniz:4\n",
      "KİŞİ REHBERE EKLENDİ\n",
      "------------------------------------------\n",
      "Yapmak İstediğiniz İşlemin Kodunu Giriniz:\n",
      "1 Rehbere kişi ekle\n",
      "2 Rehberden kişi silme\n",
      "3 İsim ve numara güncelleme\n",
      "4 Rehberi görüntüle\n",
      "------------------------------------------\n"
     ]
    }
   ],
   "source": [
    "while True:\n",
    "    print(\"------------------------------------------\")\n",
    "    print(\"Yapmak İstediğiniz İşlemin Kodunu Giriniz:\")\n",
    "    print(\"1 Rehbere kişi ekle\")\n",
    "    print(\"2 Rehberden kişi silme\")\n",
    "    print(\"3 İsim ve numara güncelleme\")\n",
    "    print(\"4 Rehberi görüntüle\")\n",
    "    print(\"------------------------------------------\")\n",
    "    \n",
    "    islem_kodu = input()\n",
    "\n",
    "    if islem_kodu == \"1\":\n",
    "        ad = input(\"isim giriniz:\")\n",
    "        while ad in Telefon_Rehberi:\n",
    "            ad = input(\"aynı isimde kayıt bulundu ismi değişirtirip yeniden giriniz:\")\n",
    "        tlf = input(\"telefon no giriniz:\")\n",
    "        Telefon_Rehberi[ad] = tlf\n",
    "        print(\"KİŞİ REHBERE EKLENDİ\")\n",
    "    elif islem_kodu == \"2\":\n",
    "        ad = input(\"silmek istediğiniz ismi giriniz:\")\n",
    "        if ad in Telefon_Rehberi:\n",
    "            Telefon_Rehberi.pop(ad)\n",
    "            print(\"KAYIT SİLİNDİ\")\n",
    "        else:\n",
    "            print(\"KAYIT BULUNAMADI\")\n",
    "    elif islem_kodu == \"3\":\n",
    "        ad = input(\"Güncellemek istediğiniz ismi giriniz:\")\n",
    "        if ad in Telefon_Rehberi:\n",
    "            yeni_no = input(\"Yeni Telefon no Giriniz:\")\n",
    "            Telefon_Rehberi[ad] = yeni_no\n",
    "            print(\"KAYIT GÜNCELLENDİ\")\n",
    "        else:\n",
    "            print(\"KAYIT BULUNAMADI\")\n",
    "    elif islem_kodu == \"4\":\n",
    "        for i in Telefon_Rehberi:\n",
    "            print(i + \":\" + Telefon_Rehberi[i])\n",
    "            \n",
    "        \n",
    "            \n",
    "    \n",
    "        \n",
    "    \n"
   ]
  },
  {
   "cell_type": "code",
   "execution_count": null,
   "id": "d188b6e0",
   "metadata": {},
   "outputs": [],
   "source": [
    "\n"
   ]
  },
  {
   "cell_type": "code",
   "execution_count": null,
   "id": "992263e9",
   "metadata": {},
   "outputs": [],
   "source": []
  },
  {
   "cell_type": "code",
   "execution_count": null,
   "id": "231dff39",
   "metadata": {},
   "outputs": [],
   "source": []
  },
  {
   "cell_type": "code",
   "execution_count": null,
   "id": "f8f483fa",
   "metadata": {},
   "outputs": [],
   "source": []
  }
 ],
 "metadata": {
  "kernelspec": {
   "display_name": "Python 3",
   "language": "python",
   "name": "python3"
  },
  "language_info": {
   "codemirror_mode": {
    "name": "ipython",
    "version": 3
   },
   "file_extension": ".py",
   "mimetype": "text/x-python",
   "name": "python",
   "nbconvert_exporter": "python",
   "pygments_lexer": "ipython3",
   "version": "3.8.8"
  }
 },
 "nbformat": 4,
 "nbformat_minor": 5
}
